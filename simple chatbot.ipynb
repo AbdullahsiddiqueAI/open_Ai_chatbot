{
 "cells": [
  {
   "attachments": {},
   "cell_type": "markdown",
   "metadata": {},
   "source": [
    "## The Power OF Function Calling using OpenAI API"
   ]
  },
  {
   "cell_type": "code",
   "execution_count": null,
   "metadata": {},
   "outputs": [],
   "source": [
    "from openai import OpenAI"
   ]
  },
  {
   "cell_type": "code",
   "execution_count": null,
   "metadata": {},
   "outputs": [],
   "source": [
    "client = OpenAI(api_key=your_api_key)"
   ]
  },
  {
   "cell_type": "code",
   "execution_count": 25,
   "metadata": {},
   "outputs": [],
   "source": [
    "\n",
    "response = client.chat.completions.create(\n",
    "    model=\"gpt-3.5-turbo\",\n",
    "    messages=[\n",
    "        {\"role\": \"system\", \"content\": \"You are a helpful assistant.\"},\n",
    "        {\"role\": \"user\", \"content\": \"Tell me about AI\"},\n",
    "    ]\n",
    ")"
   ]
  },
  {
   "cell_type": "code",
   "execution_count": 26,
   "metadata": {},
   "outputs": [
    {
     "name": "stdout",
     "output_type": "stream",
     "text": [
      "AI, or artificial intelligence, is a branch of computer science that focuses on creating machines and systems that can perform tasks that typically require human intelligence. This includes things like visual perception, speech recognition, decision-making, and language translation. AI algorithms are designed to learn from data, recognize patterns, and make decisions based on that information.\n",
      "\n",
      "There are different types of AI, including narrow AI, which is designed for specific tasks, and general AI, which aims to replicate human intelligence across a wide range of tasks. Machine learning, a subset of AI, involves training algorithms on data to improve their performance on a task without explicit programming.\n",
      "\n",
      "AI is used in various fields, such as healthcare, finance, transportation, and entertainment, to automate processes, improve decision-making, and enhance user experiences. While AI offers many benefits, there are also ethical and societal concerns related to its impact on jobs, privacy, and decision-making. Researchers and policymakers continue to explore these issues as AI technologies advance and become more integrated into our daily lives.\n"
     ]
    }
   ],
   "source": [
    "print(response.choices[0].message.content)"
   ]
  }
 ],
 "metadata": {
  "kernelspec": {
   "display_name": "Python 3",
   "language": "python",
   "name": "python3"
  },
  "language_info": {
   "codemirror_mode": {
    "name": "ipython",
    "version": 3
   },
   "file_extension": ".py",
   "mimetype": "text/x-python",
   "name": "python",
   "nbconvert_exporter": "python",
   "pygments_lexer": "ipython3",
   "version": "3.11.7"
  },
  "orig_nbformat": 4
 },
 "nbformat": 4,
 "nbformat_minor": 2
}
